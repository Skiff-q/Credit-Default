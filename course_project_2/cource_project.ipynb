{
 "cells": [
  {
   "cell_type": "markdown",
   "id": "4481b7af",
   "metadata": {},
   "source": [
    "**Подключение библиотек и скриптов**"
   ]
  },
  {
   "cell_type": "code",
   "execution_count": 1,
   "id": "55f5c509",
   "metadata": {},
   "outputs": [],
   "source": [
    "import numpy as np\n",
    "import pandas as pd\n",
    "import pickle\n",
    "\n",
    "import matplotlib.pyplot as plt\n",
    "import seaborn as sns \n",
    "import xgboost as xgb\n",
    "import catboost as catb\n",
    "from sklearn.svm import SVC\n",
    "from sklearn.linear_model import LogisticRegression, LogisticRegressionCV\n",
    "from sklearn.ensemble import RandomForestRegressor\n",
    "\n",
    "from sklearn.tree import DecisionTreeClassifier\n",
    "from sklearn.model_selection import train_test_split, GridSearchCV, ShuffleSplit, cross_val_score, learning_curve, StratifiedKFold, GridSearchCV, RandomizedSearchCV\n",
    "from sklearn.metrics import (roc_auc_score, roc_curve, auc, confusion_matrix, \\\n",
    "                            accuracy_score, classification_report, plot_confusion_matrix, \\\n",
    "                            plot_precision_recall_curve, precision_recall_curve,\n",
    "                            plot_roc_curve, f1_score, precision_score, recall_score)\n",
    "\n",
    "%matplotlib inline\n",
    "\n",
    "import warnings\n",
    "warnings.filterwarnings('ignore')"
   ]
  },
  {
   "cell_type": "markdown",
   "id": "8f0fde7f",
   "metadata": {},
   "source": [
    "**Пути к директориям и файлам**"
   ]
  },
  {
   "cell_type": "code",
   "execution_count": 2,
   "id": "b76e4b9f",
   "metadata": {},
   "outputs": [],
   "source": [
    "TRAIN_DATASET_PATH = './credit-default/train.csv'\n",
    "TEST_DATASET_PATH = './credit-default/test.csv'\n",
    "RESULT_PATH = './credit-default/result.csv'"
   ]
  },
  {
   "cell_type": "markdown",
   "id": "5e06d55f",
   "metadata": {},
   "source": [
    "**Загрузка данных**"
   ]
  },
  {
   "cell_type": "code",
   "execution_count": 3,
   "id": "358c81eb",
   "metadata": {},
   "outputs": [
    {
     "data": {
      "text/html": [
       "<div>\n",
       "<style scoped>\n",
       "    .dataframe tbody tr th:only-of-type {\n",
       "        vertical-align: middle;\n",
       "    }\n",
       "\n",
       "    .dataframe tbody tr th {\n",
       "        vertical-align: top;\n",
       "    }\n",
       "\n",
       "    .dataframe thead th {\n",
       "        text-align: right;\n",
       "    }\n",
       "</style>\n",
       "<table border=\"1\" class=\"dataframe\">\n",
       "  <thead>\n",
       "    <tr style=\"text-align: right;\">\n",
       "      <th></th>\n",
       "      <th>Home Ownership</th>\n",
       "      <th>Annual Income</th>\n",
       "      <th>Years in current job</th>\n",
       "      <th>Tax Liens</th>\n",
       "      <th>Number of Open Accounts</th>\n",
       "      <th>Years of Credit History</th>\n",
       "      <th>Maximum Open Credit</th>\n",
       "      <th>Number of Credit Problems</th>\n",
       "      <th>Months since last delinquent</th>\n",
       "      <th>Bankruptcies</th>\n",
       "      <th>Purpose</th>\n",
       "      <th>Term</th>\n",
       "      <th>Current Loan Amount</th>\n",
       "      <th>Current Credit Balance</th>\n",
       "      <th>Monthly Debt</th>\n",
       "      <th>Credit Score</th>\n",
       "      <th>Credit Default</th>\n",
       "    </tr>\n",
       "  </thead>\n",
       "  <tbody>\n",
       "    <tr>\n",
       "      <th>0</th>\n",
       "      <td>Own Home</td>\n",
       "      <td>482087.0</td>\n",
       "      <td>NaN</td>\n",
       "      <td>0.0</td>\n",
       "      <td>11.0</td>\n",
       "      <td>26.3</td>\n",
       "      <td>685960.0</td>\n",
       "      <td>1.0</td>\n",
       "      <td>NaN</td>\n",
       "      <td>1.0</td>\n",
       "      <td>debt consolidation</td>\n",
       "      <td>Short Term</td>\n",
       "      <td>99999999.0</td>\n",
       "      <td>47386.0</td>\n",
       "      <td>7914.0</td>\n",
       "      <td>749.0</td>\n",
       "      <td>0</td>\n",
       "    </tr>\n",
       "    <tr>\n",
       "      <th>1</th>\n",
       "      <td>Own Home</td>\n",
       "      <td>1025487.0</td>\n",
       "      <td>10+ years</td>\n",
       "      <td>0.0</td>\n",
       "      <td>15.0</td>\n",
       "      <td>15.3</td>\n",
       "      <td>1181730.0</td>\n",
       "      <td>0.0</td>\n",
       "      <td>NaN</td>\n",
       "      <td>0.0</td>\n",
       "      <td>debt consolidation</td>\n",
       "      <td>Long Term</td>\n",
       "      <td>264968.0</td>\n",
       "      <td>394972.0</td>\n",
       "      <td>18373.0</td>\n",
       "      <td>737.0</td>\n",
       "      <td>1</td>\n",
       "    </tr>\n",
       "    <tr>\n",
       "      <th>2</th>\n",
       "      <td>Home Mortgage</td>\n",
       "      <td>751412.0</td>\n",
       "      <td>8 years</td>\n",
       "      <td>0.0</td>\n",
       "      <td>11.0</td>\n",
       "      <td>35.0</td>\n",
       "      <td>1182434.0</td>\n",
       "      <td>0.0</td>\n",
       "      <td>NaN</td>\n",
       "      <td>0.0</td>\n",
       "      <td>debt consolidation</td>\n",
       "      <td>Short Term</td>\n",
       "      <td>99999999.0</td>\n",
       "      <td>308389.0</td>\n",
       "      <td>13651.0</td>\n",
       "      <td>742.0</td>\n",
       "      <td>0</td>\n",
       "    </tr>\n",
       "    <tr>\n",
       "      <th>3</th>\n",
       "      <td>Own Home</td>\n",
       "      <td>805068.0</td>\n",
       "      <td>6 years</td>\n",
       "      <td>0.0</td>\n",
       "      <td>8.0</td>\n",
       "      <td>22.5</td>\n",
       "      <td>147400.0</td>\n",
       "      <td>1.0</td>\n",
       "      <td>NaN</td>\n",
       "      <td>1.0</td>\n",
       "      <td>debt consolidation</td>\n",
       "      <td>Short Term</td>\n",
       "      <td>121396.0</td>\n",
       "      <td>95855.0</td>\n",
       "      <td>11338.0</td>\n",
       "      <td>694.0</td>\n",
       "      <td>0</td>\n",
       "    </tr>\n",
       "    <tr>\n",
       "      <th>4</th>\n",
       "      <td>Rent</td>\n",
       "      <td>776264.0</td>\n",
       "      <td>8 years</td>\n",
       "      <td>0.0</td>\n",
       "      <td>13.0</td>\n",
       "      <td>13.6</td>\n",
       "      <td>385836.0</td>\n",
       "      <td>1.0</td>\n",
       "      <td>NaN</td>\n",
       "      <td>0.0</td>\n",
       "      <td>debt consolidation</td>\n",
       "      <td>Short Term</td>\n",
       "      <td>125840.0</td>\n",
       "      <td>93309.0</td>\n",
       "      <td>7180.0</td>\n",
       "      <td>719.0</td>\n",
       "      <td>0</td>\n",
       "    </tr>\n",
       "  </tbody>\n",
       "</table>\n",
       "</div>"
      ],
      "text/plain": [
       "  Home Ownership  Annual Income Years in current job  Tax Liens  \\\n",
       "0       Own Home       482087.0                  NaN        0.0   \n",
       "1       Own Home      1025487.0            10+ years        0.0   \n",
       "2  Home Mortgage       751412.0              8 years        0.0   \n",
       "3       Own Home       805068.0              6 years        0.0   \n",
       "4           Rent       776264.0              8 years        0.0   \n",
       "\n",
       "   Number of Open Accounts  Years of Credit History  Maximum Open Credit  \\\n",
       "0                     11.0                     26.3             685960.0   \n",
       "1                     15.0                     15.3            1181730.0   \n",
       "2                     11.0                     35.0            1182434.0   \n",
       "3                      8.0                     22.5             147400.0   \n",
       "4                     13.0                     13.6             385836.0   \n",
       "\n",
       "   Number of Credit Problems  Months since last delinquent  Bankruptcies  \\\n",
       "0                        1.0                           NaN           1.0   \n",
       "1                        0.0                           NaN           0.0   \n",
       "2                        0.0                           NaN           0.0   \n",
       "3                        1.0                           NaN           1.0   \n",
       "4                        1.0                           NaN           0.0   \n",
       "\n",
       "              Purpose        Term  Current Loan Amount  \\\n",
       "0  debt consolidation  Short Term           99999999.0   \n",
       "1  debt consolidation   Long Term             264968.0   \n",
       "2  debt consolidation  Short Term           99999999.0   \n",
       "3  debt consolidation  Short Term             121396.0   \n",
       "4  debt consolidation  Short Term             125840.0   \n",
       "\n",
       "   Current Credit Balance  Monthly Debt  Credit Score  Credit Default  \n",
       "0                 47386.0        7914.0         749.0               0  \n",
       "1                394972.0       18373.0         737.0               1  \n",
       "2                308389.0       13651.0         742.0               0  \n",
       "3                 95855.0       11338.0         694.0               0  \n",
       "4                 93309.0        7180.0         719.0               0  "
      ]
     },
     "execution_count": 3,
     "metadata": {},
     "output_type": "execute_result"
    }
   ],
   "source": [
    "df_train = pd.read_csv(TRAIN_DATASET_PATH)\n",
    "df_train.head()"
   ]
  },
  {
   "cell_type": "markdown",
   "id": "a1940073",
   "metadata": {},
   "source": [
    "### обзор датасета"
   ]
  },
  {
   "cell_type": "code",
   "execution_count": 4,
   "id": "c7ecc906",
   "metadata": {},
   "outputs": [
    {
     "data": {
      "text/plain": [
       "(7500, 17)"
      ]
     },
     "execution_count": 4,
     "metadata": {},
     "output_type": "execute_result"
    }
   ],
   "source": [
    "df_train.shape"
   ]
  },
  {
   "cell_type": "code",
   "execution_count": 5,
   "id": "44759468",
   "metadata": {},
   "outputs": [
    {
     "data": {
      "text/plain": [
       "Home Ownership                       Home Mortgage\n",
       "Annual Income                                  NaN\n",
       "Years in current job                      < 1 year\n",
       "Tax Liens                                      0.0\n",
       "Number of Open Accounts                        7.0\n",
       "Years of Credit History                       11.5\n",
       "Maximum Open Credit                       256322.0\n",
       "Number of Credit Problems                      0.0\n",
       "Months since last delinquent                   NaN\n",
       "Bankruptcies                                   0.0\n",
       "Purpose                         debt consolidation\n",
       "Term                                    Short Term\n",
       "Current Loan Amount                       220858.0\n",
       "Current Credit Balance                    187492.0\n",
       "Monthly Debt                               14592.0\n",
       "Credit Score                                   NaN\n",
       "Credit Default                                   0\n",
       "Name: 10, dtype: object"
      ]
     },
     "execution_count": 5,
     "metadata": {},
     "output_type": "execute_result"
    }
   ],
   "source": [
    "df_train.iloc[10]"
   ]
  },
  {
   "cell_type": "code",
   "execution_count": 6,
   "id": "9cbe2372",
   "metadata": {},
   "outputs": [
    {
     "data": {
      "text/plain": [
       "0    5387\n",
       "1    2113\n",
       "Name: Credit Default, dtype: int64"
      ]
     },
     "execution_count": 6,
     "metadata": {},
     "output_type": "execute_result"
    }
   ],
   "source": [
    "df_train['Credit Default'].value_counts()"
   ]
  },
  {
   "cell_type": "code",
   "execution_count": 7,
   "id": "324e8628",
   "metadata": {},
   "outputs": [
    {
     "data": {
      "text/html": [
       "<div>\n",
       "<style scoped>\n",
       "    .dataframe tbody tr th:only-of-type {\n",
       "        vertical-align: middle;\n",
       "    }\n",
       "\n",
       "    .dataframe tbody tr th {\n",
       "        vertical-align: top;\n",
       "    }\n",
       "\n",
       "    .dataframe thead th {\n",
       "        text-align: right;\n",
       "    }\n",
       "</style>\n",
       "<table border=\"1\" class=\"dataframe\">\n",
       "  <thead>\n",
       "    <tr style=\"text-align: right;\">\n",
       "      <th></th>\n",
       "      <th>Home Ownership</th>\n",
       "      <th>Annual Income</th>\n",
       "      <th>Years in current job</th>\n",
       "      <th>Tax Liens</th>\n",
       "      <th>Number of Open Accounts</th>\n",
       "      <th>Years of Credit History</th>\n",
       "      <th>Maximum Open Credit</th>\n",
       "      <th>Number of Credit Problems</th>\n",
       "      <th>Months since last delinquent</th>\n",
       "      <th>Bankruptcies</th>\n",
       "      <th>Purpose</th>\n",
       "      <th>Term</th>\n",
       "      <th>Current Loan Amount</th>\n",
       "      <th>Current Credit Balance</th>\n",
       "      <th>Monthly Debt</th>\n",
       "      <th>Credit Score</th>\n",
       "    </tr>\n",
       "  </thead>\n",
       "  <tbody>\n",
       "    <tr>\n",
       "      <th>0</th>\n",
       "      <td>Rent</td>\n",
       "      <td>NaN</td>\n",
       "      <td>4 years</td>\n",
       "      <td>0.0</td>\n",
       "      <td>9.0</td>\n",
       "      <td>12.5</td>\n",
       "      <td>220968.0</td>\n",
       "      <td>0.0</td>\n",
       "      <td>70.0</td>\n",
       "      <td>0.0</td>\n",
       "      <td>debt consolidation</td>\n",
       "      <td>Short Term</td>\n",
       "      <td>162470.0</td>\n",
       "      <td>105906.0</td>\n",
       "      <td>6813.0</td>\n",
       "      <td>NaN</td>\n",
       "    </tr>\n",
       "    <tr>\n",
       "      <th>1</th>\n",
       "      <td>Rent</td>\n",
       "      <td>231838.0</td>\n",
       "      <td>1 year</td>\n",
       "      <td>0.0</td>\n",
       "      <td>6.0</td>\n",
       "      <td>32.7</td>\n",
       "      <td>55946.0</td>\n",
       "      <td>0.0</td>\n",
       "      <td>8.0</td>\n",
       "      <td>0.0</td>\n",
       "      <td>educational expenses</td>\n",
       "      <td>Short Term</td>\n",
       "      <td>78298.0</td>\n",
       "      <td>46037.0</td>\n",
       "      <td>2318.0</td>\n",
       "      <td>699.0</td>\n",
       "    </tr>\n",
       "    <tr>\n",
       "      <th>2</th>\n",
       "      <td>Home Mortgage</td>\n",
       "      <td>1152540.0</td>\n",
       "      <td>3 years</td>\n",
       "      <td>0.0</td>\n",
       "      <td>10.0</td>\n",
       "      <td>13.7</td>\n",
       "      <td>204600.0</td>\n",
       "      <td>0.0</td>\n",
       "      <td>NaN</td>\n",
       "      <td>0.0</td>\n",
       "      <td>debt consolidation</td>\n",
       "      <td>Short Term</td>\n",
       "      <td>200178.0</td>\n",
       "      <td>146490.0</td>\n",
       "      <td>18729.0</td>\n",
       "      <td>7260.0</td>\n",
       "    </tr>\n",
       "    <tr>\n",
       "      <th>3</th>\n",
       "      <td>Home Mortgage</td>\n",
       "      <td>1220313.0</td>\n",
       "      <td>10+ years</td>\n",
       "      <td>0.0</td>\n",
       "      <td>16.0</td>\n",
       "      <td>17.0</td>\n",
       "      <td>456302.0</td>\n",
       "      <td>0.0</td>\n",
       "      <td>70.0</td>\n",
       "      <td>0.0</td>\n",
       "      <td>debt consolidation</td>\n",
       "      <td>Short Term</td>\n",
       "      <td>217382.0</td>\n",
       "      <td>213199.0</td>\n",
       "      <td>27559.0</td>\n",
       "      <td>739.0</td>\n",
       "    </tr>\n",
       "    <tr>\n",
       "      <th>4</th>\n",
       "      <td>Home Mortgage</td>\n",
       "      <td>2340952.0</td>\n",
       "      <td>6 years</td>\n",
       "      <td>0.0</td>\n",
       "      <td>11.0</td>\n",
       "      <td>23.6</td>\n",
       "      <td>1207272.0</td>\n",
       "      <td>0.0</td>\n",
       "      <td>NaN</td>\n",
       "      <td>0.0</td>\n",
       "      <td>debt consolidation</td>\n",
       "      <td>Long Term</td>\n",
       "      <td>777634.0</td>\n",
       "      <td>425391.0</td>\n",
       "      <td>42605.0</td>\n",
       "      <td>706.0</td>\n",
       "    </tr>\n",
       "  </tbody>\n",
       "</table>\n",
       "</div>"
      ],
      "text/plain": [
       "  Home Ownership  Annual Income Years in current job  Tax Liens  \\\n",
       "0           Rent            NaN              4 years        0.0   \n",
       "1           Rent       231838.0               1 year        0.0   \n",
       "2  Home Mortgage      1152540.0              3 years        0.0   \n",
       "3  Home Mortgage      1220313.0            10+ years        0.0   \n",
       "4  Home Mortgage      2340952.0              6 years        0.0   \n",
       "\n",
       "   Number of Open Accounts  Years of Credit History  Maximum Open Credit  \\\n",
       "0                      9.0                     12.5             220968.0   \n",
       "1                      6.0                     32.7              55946.0   \n",
       "2                     10.0                     13.7             204600.0   \n",
       "3                     16.0                     17.0             456302.0   \n",
       "4                     11.0                     23.6            1207272.0   \n",
       "\n",
       "   Number of Credit Problems  Months since last delinquent  Bankruptcies  \\\n",
       "0                        0.0                          70.0           0.0   \n",
       "1                        0.0                           8.0           0.0   \n",
       "2                        0.0                           NaN           0.0   \n",
       "3                        0.0                          70.0           0.0   \n",
       "4                        0.0                           NaN           0.0   \n",
       "\n",
       "                Purpose        Term  Current Loan Amount  \\\n",
       "0    debt consolidation  Short Term             162470.0   \n",
       "1  educational expenses  Short Term              78298.0   \n",
       "2    debt consolidation  Short Term             200178.0   \n",
       "3    debt consolidation  Short Term             217382.0   \n",
       "4    debt consolidation   Long Term             777634.0   \n",
       "\n",
       "   Current Credit Balance  Monthly Debt  Credit Score  \n",
       "0                105906.0        6813.0           NaN  \n",
       "1                 46037.0        2318.0         699.0  \n",
       "2                146490.0       18729.0        7260.0  \n",
       "3                213199.0       27559.0         739.0  \n",
       "4                425391.0       42605.0         706.0  "
      ]
     },
     "execution_count": 7,
     "metadata": {},
     "output_type": "execute_result"
    }
   ],
   "source": [
    "df_test = pd.read_csv(TEST_DATASET_PATH)\n",
    "df_test.head()"
   ]
  },
  {
   "cell_type": "code",
   "execution_count": 8,
   "id": "07af354c",
   "metadata": {},
   "outputs": [
    {
     "data": {
      "text/plain": [
       "(2500, 16)"
      ]
     },
     "execution_count": 8,
     "metadata": {},
     "output_type": "execute_result"
    }
   ],
   "source": [
    "df_test.shape"
   ]
  },
  {
   "cell_type": "code",
   "execution_count": 9,
   "id": "c718c536",
   "metadata": {},
   "outputs": [
    {
     "name": "stdout",
     "output_type": "stream",
     "text": [
      "<class 'pandas.core.frame.DataFrame'>\n",
      "RangeIndex: 7500 entries, 0 to 7499\n",
      "Data columns (total 17 columns):\n",
      " #   Column                        Non-Null Count  Dtype  \n",
      "---  ------                        --------------  -----  \n",
      " 0   Home Ownership                7500 non-null   object \n",
      " 1   Annual Income                 5943 non-null   float64\n",
      " 2   Years in current job          7129 non-null   object \n",
      " 3   Tax Liens                     7500 non-null   float64\n",
      " 4   Number of Open Accounts       7500 non-null   float64\n",
      " 5   Years of Credit History       7500 non-null   float64\n",
      " 6   Maximum Open Credit           7500 non-null   float64\n",
      " 7   Number of Credit Problems     7500 non-null   float64\n",
      " 8   Months since last delinquent  3419 non-null   float64\n",
      " 9   Bankruptcies                  7486 non-null   float64\n",
      " 10  Purpose                       7500 non-null   object \n",
      " 11  Term                          7500 non-null   object \n",
      " 12  Current Loan Amount           7500 non-null   float64\n",
      " 13  Current Credit Balance        7500 non-null   float64\n",
      " 14  Monthly Debt                  7500 non-null   float64\n",
      " 15  Credit Score                  5943 non-null   float64\n",
      " 16  Credit Default                7500 non-null   int64  \n",
      "dtypes: float64(12), int64(1), object(4)\n",
      "memory usage: 996.2+ KB\n"
     ]
    }
   ],
   "source": [
    "df_train.info()"
   ]
  },
  {
   "cell_type": "code",
   "execution_count": 10,
   "id": "23a8014a",
   "metadata": {},
   "outputs": [
    {
     "name": "stdout",
     "output_type": "stream",
     "text": [
      "<class 'pandas.core.frame.DataFrame'>\n",
      "RangeIndex: 2500 entries, 0 to 2499\n",
      "Data columns (total 16 columns):\n",
      " #   Column                        Non-Null Count  Dtype  \n",
      "---  ------                        --------------  -----  \n",
      " 0   Home Ownership                2500 non-null   object \n",
      " 1   Annual Income                 1987 non-null   float64\n",
      " 2   Years in current job          2414 non-null   object \n",
      " 3   Tax Liens                     2500 non-null   float64\n",
      " 4   Number of Open Accounts       2500 non-null   float64\n",
      " 5   Years of Credit History       2500 non-null   float64\n",
      " 6   Maximum Open Credit           2500 non-null   float64\n",
      " 7   Number of Credit Problems     2500 non-null   float64\n",
      " 8   Months since last delinquent  1142 non-null   float64\n",
      " 9   Bankruptcies                  2497 non-null   float64\n",
      " 10  Purpose                       2500 non-null   object \n",
      " 11  Term                          2500 non-null   object \n",
      " 12  Current Loan Amount           2500 non-null   float64\n",
      " 13  Current Credit Balance        2500 non-null   float64\n",
      " 14  Monthly Debt                  2500 non-null   float64\n",
      " 15  Credit Score                  1987 non-null   float64\n",
      "dtypes: float64(12), object(4)\n",
      "memory usage: 312.6+ KB\n"
     ]
    }
   ],
   "source": [
    "df_test.info()"
   ]
  },
  {
   "cell_type": "markdown",
   "id": "6453973c",
   "metadata": {},
   "source": [
    "- Home Ownership - домовладение\n",
    "- Annual Income - годовой доход\n",
    "- Years in current job - количество лет на текущем месте работы\n",
    "- Tax Liens - налоговые обременения\n",
    "- Number of Open Accounts - количество открытых счетов\n",
    "- Years of Credit History - количество лет кредитной истории\n",
    "- Maximum Open Credit - наибольший открытый кредит\n",
    "- Number of Credit Problems - количество проблем с кредитом\n",
    "- Months since last delinquent - количество месяцев с последней просрочки платежа\n",
    "- Bankruptcies - банкротства\n",
    "- Purpose - цель кредита\n",
    "- Term - срок кредита\n",
    "- Current Loan Amount - текущая сумма кредита\n",
    "- Current Credit Balance - текущий кредитный баланс\n",
    "- Monthly Debt - ежемесячный долг\n",
    "- Credit Default - факт невыполнения кредитных обязательств (0 - погашен вовремя, 1 - просрочка)"
   ]
  },
  {
   "cell_type": "markdown",
   "id": "a5ed4bae",
   "metadata": {},
   "source": [
    "### Функции"
   ]
  },
  {
   "cell_type": "code",
   "execution_count": 11,
   "id": "5c7118eb",
   "metadata": {},
   "outputs": [],
   "source": [
    "def get_classification_report(y_train_true, y_train_pred, y_test_true, y_test_pred):\n",
    "    print('TRAIN\\n\\n' + classification_report(y_train_true, y_train_pred))\n",
    "    print('TEST\\n\\n' + classification_report(y_test_true, y_test_pred))\n",
    "    print('Confusion Matrix\\n')\n",
    "    print(pd.crosstab(y_test_true, y_test_pred))\n",
    "    \n",
    "def show_feature_importances(feature_names, feature_importances, get_top=None):\n",
    "    feature_importances = pd.DataFrame({'feature': feature_names, 'importance': feature_importances})\n",
    "    feature_importances = feature_importances.sort_values('importance', ascending=False)\n",
    "    \n",
    "    plt.figure(figsize = (10, 6))\n",
    "    \n",
    "    sns.barplot(feature_importances['importance'], feature_importances['feature'])\n",
    "    \n",
    "    plt.xlabel('Importance')\n",
    "    plt.title('Importance of features')\n",
    "    plt.show()\n",
    "    \n",
    "    if get_top is not None:\n",
    "        return feature_importances['feature'][:get_top].tolist()\n",
    "    \n",
    "def show_learning_curve_plot(estimator, X, y, cv=5, n_jobs=-1, train_sizes=np.linspace(.1, 1.0, 5)):\n",
    "    \n",
    "    train_sizes, train_scores, test_scores = learning_curve(estimator, X, y,\n",
    "                                                           cv=cv,\n",
    "                                                           scoring='f1',\n",
    "                                                           train_sizes = train_sizes,\n",
    "                                                           n_jobs=n_jobs)\n",
    "    train_scores_mean = np.mean(train_scores, axis=1)\n",
    "    train_scores_std = np.std(train_scores, axis=1)\n",
    "    test_scores_mean = np.mean(test_scores, axis=1)\n",
    "    test_scores_std = np.std(test_scores, axis=1)\n",
    "    \n",
    "    plt.figure(figsize=(15, 8))\n",
    "    plt.fill_between(train_sizes, train_scores_mean - train_scores_std,\n",
    "                    train_scores_mean + train_scores_std, alpha=0.1, color='r')\n",
    "    plt.fill_between(train_sizes, test_scores_mean - test_scores_std,\n",
    "                     test_scores_mean + test_scores_std, alpha=0.1, color='g')\n",
    "    plt.plot(train_sizes, train_scores_mean, 'o-', color='r', label='Training score')\n",
    "    plt.plot(train_sizes, test_scores_mean, 'o-', color='g', label='Cross-validation score')\n",
    "    \n",
    "    plt.title(f'Learning curves ({type(estimator).__name__})')\n",
    "    plt.xlabel('Trainig examples')\n",
    "    plt.ylabel('Score')\n",
    "    plt.legend(loc='best')\n",
    "    plt.grid()\n",
    "    plt.show()    "
   ]
  },
  {
   "cell_type": "markdown",
   "id": "a8b5402b",
   "metadata": {},
   "source": [
    "### Обработка пропусков"
   ]
  },
  {
   "cell_type": "code",
   "execution_count": 12,
   "id": "76720afd",
   "metadata": {},
   "outputs": [],
   "source": [
    "def null_processing(data):\n",
    "    feature_names = ['Annual Income', 'Months since last delinquent', 'Credit Score']\n",
    "    for feature in feature_names:\n",
    "        data_mean = data[~((data[feature].isna()) | (data[feature] == 0))][feature].mean()\n",
    "        data.loc[(data[feature].isna()), [feature]] = data_mean\n",
    "    \n",
    "    return data"
   ]
  },
  {
   "cell_type": "code",
   "execution_count": 13,
   "id": "ef5479bd",
   "metadata": {},
   "outputs": [],
   "source": [
    "df_train = null_processing(df_train)\n",
    "df_test = null_processing(df_test)"
   ]
  },
  {
   "cell_type": "code",
   "execution_count": 14,
   "id": "76ea07a1",
   "metadata": {},
   "outputs": [],
   "source": [
    "#удаление строк где целевая переменная = 0 и есть значения Nan\n",
    "def column_drop(data):\n",
    "    columns_drop_ = ['Years in current job', 'Bankruptcies']\n",
    "    for col in columns_drop_:\n",
    "        data = data[~((data[col].isna()) & (data['Credit Default'] == 0))]\n",
    "    return data"
   ]
  },
  {
   "cell_type": "code",
   "execution_count": 15,
   "id": "c486fa9d",
   "metadata": {},
   "outputs": [
    {
     "name": "stdout",
     "output_type": "stream",
     "text": [
      "<class 'pandas.core.frame.DataFrame'>\n",
      "Int64Index: 7256 entries, 1 to 7499\n",
      "Data columns (total 17 columns):\n",
      " #   Column                        Non-Null Count  Dtype  \n",
      "---  ------                        --------------  -----  \n",
      " 0   Home Ownership                7256 non-null   object \n",
      " 1   Annual Income                 7256 non-null   float64\n",
      " 2   Years in current job          7119 non-null   object \n",
      " 3   Tax Liens                     7256 non-null   float64\n",
      " 4   Number of Open Accounts       7256 non-null   float64\n",
      " 5   Years of Credit History       7256 non-null   float64\n",
      " 6   Maximum Open Credit           7256 non-null   float64\n",
      " 7   Number of Credit Problems     7256 non-null   float64\n",
      " 8   Months since last delinquent  7256 non-null   float64\n",
      " 9   Bankruptcies                  7252 non-null   float64\n",
      " 10  Purpose                       7256 non-null   object \n",
      " 11  Term                          7256 non-null   object \n",
      " 12  Current Loan Amount           7256 non-null   float64\n",
      " 13  Current Credit Balance        7256 non-null   float64\n",
      " 14  Monthly Debt                  7256 non-null   float64\n",
      " 15  Credit Score                  7256 non-null   float64\n",
      " 16  Credit Default                7256 non-null   int64  \n",
      "dtypes: float64(12), int64(1), object(4)\n",
      "memory usage: 1020.4+ KB\n"
     ]
    }
   ],
   "source": [
    "df_train = column_drop(df_train)\n",
    "df_train.info()"
   ]
  },
  {
   "cell_type": "markdown",
   "id": "0753458e",
   "metadata": {},
   "source": [
    "#### преобразование типов "
   ]
  },
  {
   "cell_type": "code",
   "execution_count": 16,
   "id": "9ec32d4e",
   "metadata": {},
   "outputs": [],
   "source": [
    "def type_conversion(data):\n",
    "    # Home Ownership\n",
    "    map_home_ownership = {\n",
    "        'Have Mortgage' : 0,\n",
    "        'Rent' : 1,\n",
    "        'Own Home': 2,\n",
    "        'Home Martgage': 3,\n",
    "    }\n",
    "    \n",
    "    data['Home Ownership'] = data['Home Ownership'].map(map_home_ownership)\n",
    "    \n",
    "    # Years in current job\n",
    "    map_years_in_current_job = {\n",
    "        '< 1 year' : 0,\n",
    "        '1 year': 1,\n",
    "        '2 years': 2,\n",
    "        '3 years': 3,\n",
    "        '4 years': 4,\n",
    "        '5 years': 5,\n",
    "        '6 years': 6,\n",
    "        '7 years': 7,\n",
    "        '8 years': 8,\n",
    "        '9 years': 9,\n",
    "        '10+ years': 10,\n",
    "    }\n",
    "    \n",
    "    data['Years in current job'] = data['Years in current job'].map(map_years_in_current_job)\n",
    "    \n",
    "    # Purpose\n",
    "    map_purpose = {\n",
    "        \"renewable energy\" : 14,\n",
    "        \"vacation\": 13,\n",
    "        \"educational expenses\": 12,\n",
    "        \"moving\": 11,\n",
    "        \"wedding\": 10,\n",
    "        \"small business\" : 9,\n",
    "        \"buy house\" : 8,\n",
    "        \"take a trip\" : 7,\n",
    "        \"major purchase\" : 6,\n",
    "        \"medical bills\" : 5,\n",
    "        \"buy a car\" : 4,\n",
    "        \"business loan\" : 3,\n",
    "        \"home improvements\" : 2,\n",
    "        \"other\" : 1,\n",
    "        \"debt consolidation\" : 0,\n",
    "    }\n",
    "    \n",
    "    data['Purpose'] = data['Purpose'].map(map_purpose)\n",
    "    \n",
    "    #Term\n",
    "    map_term = {\n",
    "        'Short Term' : 0,\n",
    "        'Long Term' : 1,\n",
    "    }\n",
    "    \n",
    "    data['Term'] = data['Term'].map(map_term)\n",
    "    \n",
    "    # все Nan переводим в 0\n",
    "    data = data.fillna(0)\n",
    "    \n",
    "    return data"
   ]
  },
  {
   "cell_type": "code",
   "execution_count": 17,
   "id": "69d39eb1",
   "metadata": {},
   "outputs": [],
   "source": [
    "df_train = type_conversion(df_train)\n",
    "df_test = type_conversion(df_test)"
   ]
  },
  {
   "cell_type": "code",
   "execution_count": 18,
   "id": "36238a40",
   "metadata": {},
   "outputs": [
    {
     "data": {
      "text/plain": [
       "Home Ownership                  0\n",
       "Annual Income                   0\n",
       "Years in current job            0\n",
       "Tax Liens                       0\n",
       "Number of Open Accounts         0\n",
       "Years of Credit History         0\n",
       "Maximum Open Credit             0\n",
       "Number of Credit Problems       0\n",
       "Months since last delinquent    0\n",
       "Bankruptcies                    0\n",
       "Purpose                         0\n",
       "Term                            0\n",
       "Current Loan Amount             0\n",
       "Current Credit Balance          0\n",
       "Monthly Debt                    0\n",
       "Credit Score                    0\n",
       "Credit Default                  0\n",
       "dtype: int64"
      ]
     },
     "execution_count": 18,
     "metadata": {},
     "output_type": "execute_result"
    }
   ],
   "source": [
    "df_train.isna().sum()"
   ]
  },
  {
   "cell_type": "markdown",
   "id": "787f5e16",
   "metadata": {},
   "source": [
    "### Осмотр признаков"
   ]
  },
  {
   "cell_type": "code",
   "execution_count": 19,
   "id": "1c58ce1c",
   "metadata": {},
   "outputs": [
    {
     "data": {
      "image/png": "[encoded data removed]",
      "text/plain": [
       "<Figure size 1152x1152 with 20 Axes>"
      ]
     },
     "metadata": {
      "needs_background": "light"
     },
     "output_type": "display_data"
    }
   ],
   "source": [
    "df_train.hist(figsize=(16,16), bins=20, grid=False);"
   ]
  },
  {
   "cell_type": "code",
   "execution_count": 20,
   "id": "8b325a67",
   "metadata": {},
   "outputs": [],
   "source": [
    "X = df_train[df_train.columns.drop('Credit Default')]\n",
    "y = df_train['Credit Default']"
   ]
  },
  {
   "cell_type": "markdown",
   "id": "7f77693f",
   "metadata": {},
   "source": [
    "#### CatB"
   ]
  },
  {
   "cell_type": "code",
   "execution_count": 21,
   "id": "67ba439c",
   "metadata": {},
   "outputs": [
    {
     "name": "stdout",
     "output_type": "stream",
     "text": [
      "TRAIN\n",
      "\n",
      "              precision    recall  f1-score   support\n",
      "\n",
      "           0       0.95      0.90      0.92      3588\n",
      "           1       0.79      0.88      0.83      1491\n",
      "\n",
      "    accuracy                           0.90      5079\n",
      "   macro avg       0.87      0.89      0.88      5079\n",
      "weighted avg       0.90      0.90      0.90      5079\n",
      "\n",
      "TEST\n",
      "\n",
      "              precision    recall  f1-score   support\n",
      "\n",
      "           0       0.82      0.80      0.81      1555\n",
      "           1       0.53      0.57      0.55       622\n",
      "\n",
      "    accuracy                           0.73      2177\n",
      "   macro avg       0.68      0.68      0.68      2177\n",
      "weighted avg       0.74      0.73      0.74      2177\n",
      "\n",
      "Confusion Matrix\n",
      "\n",
      "col_0     0    1\n",
      "row_0           \n",
      "0      1242  313\n",
      "1       267  355\n"
     ]
    }
   ],
   "source": [
    "X_train, X_test, y_train, y_test = train_test_split(X, y, test_size=0.3, random_state=17)\n",
    "\n",
    "catb_model = catb.CatBoostClassifier(\n",
    "                    auto_class_weights='Balanced',\n",
    "                    silent=True,\n",
    "                    random_state=11)\n",
    "\n",
    "catb_model.fit(X_train, y_train)\n",
    "\n",
    "y_train_pred = catb_model.predict(X_train)\n",
    "y_test_pred = catb_model.predict(X_test)\n",
    "\n",
    "get_classification_report(y_train, y_train_pred, y_test.values, y_test_pred)"
   ]
  },
  {
   "cell_type": "markdown",
   "id": "b49400b0",
   "metadata": {},
   "source": [
    "### Важность признаков<a class=\"anchor\" id=\"feature_importances\"></a>"
   ]
  },
  {
   "cell_type": "code",
   "execution_count": 22,
   "id": "c7395186",
   "metadata": {},
   "outputs": [
    {
     "data": {
      "image/png": "[encoded data removed]",
      "text/plain": [
       "<Figure size 720x432 with 1 Axes>"
      ]
     },
     "metadata": {
      "needs_background": "light"
     },
     "output_type": "display_data"
    }
   ],
   "source": [
    "important_features_top = show_feature_importances(X_train.columns, catb_model.feature_importances_, get_top=15)"
   ]
  },
  {
   "cell_type": "code",
   "execution_count": 23,
   "id": "d9511e08",
   "metadata": {},
   "outputs": [
    {
     "data": {
      "text/plain": [
       "['Credit Score',\n",
       " 'Current Loan Amount',\n",
       " 'Annual Income',\n",
       " 'Maximum Open Credit',\n",
       " 'Years of Credit History',\n",
       " 'Monthly Debt',\n",
       " 'Current Credit Balance',\n",
       " 'Years in current job',\n",
       " 'Months since last delinquent',\n",
       " 'Number of Open Accounts',\n",
       " 'Term',\n",
       " 'Home Ownership',\n",
       " 'Purpose',\n",
       " 'Number of Credit Problems',\n",
       " 'Bankruptcies']"
      ]
     },
     "execution_count": 23,
     "metadata": {},
     "output_type": "execute_result"
    }
   ],
   "source": [
    "important_features_top"
   ]
  },
  {
   "cell_type": "markdown",
   "id": "9c47e5c3",
   "metadata": {},
   "source": [
    "### Снижение степени переобучения "
   ]
  },
  {
   "cell_type": "code",
   "execution_count": 24,
   "id": "97f9f45f",
   "metadata": {},
   "outputs": [],
   "source": [
    "params = {'n_estimators': [50, 100, 200, 500, 700, 1000, 1200, 1500],\n",
    "         'max_depth': [3, 5, 7]}"
   ]
  },
  {
   "cell_type": "code",
   "execution_count": 25,
   "id": "aa53c6af",
   "metadata": {},
   "outputs": [],
   "source": [
    "cv = StratifiedKFold(n_splits=3, random_state=17, shuffle=True)"
   ]
  },
  {
   "cell_type": "code",
   "execution_count": 38,
   "id": "7d93f5f9",
   "metadata": {},
   "outputs": [
    {
     "data": {
      "text/plain": [
       "RandomizedSearchCV(cv=StratifiedKFold(n_splits=3, random_state=17, shuffle=True),\n",
       "                   estimator=<catboost.core.CatBoostClassifier object at 0x0000020CD490B100>,\n",
       "                   n_jobs=-1,\n",
       "                   param_distributions={'max_depth': [3, 5, 7],\n",
       "                                        'n_estimators': [50, 100, 200, 500, 700,\n",
       "                                                         1000, 1200, 1500]},\n",
       "                   scoring='f1')"
      ]
     },
     "execution_count": 38,
     "metadata": {},
     "output_type": "execute_result"
    }
   ],
   "source": [
    "rand_search = RandomizedSearchCV(catb_model, params, scoring='f1', cv=cv, n_jobs=-1)\n",
    "rand_search.fit(X, y)"
   ]
  },
  {
   "cell_type": "code",
   "execution_count": 39,
   "id": "211746f8",
   "metadata": {},
   "outputs": [
    {
     "data": {
      "text/plain": [
       "{'n_estimators': 500, 'max_depth': 3}"
      ]
     },
     "execution_count": 39,
     "metadata": {},
     "output_type": "execute_result"
    }
   ],
   "source": [
    "rand_search.best_params_"
   ]
  },
  {
   "cell_type": "code",
   "execution_count": 40,
   "id": "0ac479cb",
   "metadata": {},
   "outputs": [
    {
     "data": {
      "text/plain": [
       "0.5644133941860957"
      ]
     },
     "execution_count": 40,
     "metadata": {},
     "output_type": "execute_result"
    }
   ],
   "source": [
    "rand_search.best_score_"
   ]
  },
  {
   "cell_type": "code",
   "execution_count": 29,
   "id": "220d1f02",
   "metadata": {},
   "outputs": [
    {
     "data": {
      "text/plain": [
       "2.4064386317907447"
      ]
     },
     "execution_count": 29,
     "metadata": {},
     "output_type": "execute_result"
    }
   ],
   "source": [
    "disbalance = y_train.value_counts()[0]  /y_train.value_counts()[1]\n",
    "disbalance"
   ]
  },
  {
   "cell_type": "code",
   "execution_count": 57,
   "id": "e44b2ae2",
   "metadata": {},
   "outputs": [],
   "source": [
    "frozen_params = {\n",
    "    'class_weights': [1, disbalance],\n",
    "    'silent': True,\n",
    "    'random_state': 17,\n",
    "    'eval_metric': 'F1',\n",
    "    'early_stopping_rounds': 20\n",
    "}"
   ]
  },
  {
   "cell_type": "code",
   "execution_count": 71,
   "id": "40e88f4d",
   "metadata": {},
   "outputs": [
    {
     "name": "stdout",
     "output_type": "stream",
     "text": [
      "TRAIN\n",
      "\n",
      "              precision    recall  f1-score   support\n",
      "\n",
      "           0       0.82      0.78      0.80      3588\n",
      "           1       0.53      0.59      0.56      1491\n",
      "\n",
      "    accuracy                           0.72      5079\n",
      "   macro avg       0.67      0.68      0.68      5079\n",
      "weighted avg       0.73      0.72      0.73      5079\n",
      "\n",
      "TEST\n",
      "\n",
      "              precision    recall  f1-score   support\n",
      "\n",
      "           0       0.83      0.77      0.80      1555\n",
      "           1       0.51      0.61      0.56       622\n",
      "\n",
      "    accuracy                           0.72      2177\n",
      "   macro avg       0.67      0.69      0.68      2177\n",
      "weighted avg       0.74      0.72      0.73      2177\n",
      "\n",
      "Confusion Matrix\n",
      "\n",
      "col_0     0    1\n",
      "row_0           \n",
      "0      1195  360\n",
      "1       244  378\n"
     ]
    }
   ],
   "source": [
    "catb_final = catb.CatBoostClassifier(**frozen_params,\n",
    "                                    iterations=100,\n",
    "                                    max_depth=3,\n",
    "                                    reg_lambda=0.01\n",
    "                                    )\n",
    "catb_final.fit(X_train[important_features_top], y_train)\n",
    "\n",
    "y_train_preds = catb_final.predict(X_train[important_features_top])\n",
    "y_test_preds = catb_final.predict(X_test)\n",
    "\n",
    "get_classification_report(y_train, y_train_preds, y_test.values, y_test_preds)"
   ]
  },
  {
   "cell_type": "code",
   "execution_count": 72,
   "id": "27ecd217",
   "metadata": {},
   "outputs": [
    {
     "data": {
      "image/png": "[encoded data removed]",
      "text/plain": [
       "<Figure size 1080x576 with 1 Axes>"
      ]
     },
     "metadata": {
      "needs_background": "light"
     },
     "output_type": "display_data"
    }
   ],
   "source": [
    "show_learning_curve_plot(catb_model, X_train, y_train)"
   ]
  },
  {
   "cell_type": "markdown",
   "id": "c8bf1684",
   "metadata": {},
   "source": [
    "# test"
   ]
  },
  {
   "cell_type": "code",
   "execution_count": 73,
   "id": "56c6b691",
   "metadata": {},
   "outputs": [
    {
     "name": "stdout",
     "output_type": "stream",
     "text": [
      "<class 'pandas.core.frame.DataFrame'>\n",
      "RangeIndex: 2500 entries, 0 to 2499\n",
      "Data columns (total 16 columns):\n",
      " #   Column                        Non-Null Count  Dtype  \n",
      "---  ------                        --------------  -----  \n",
      " 0   Home Ownership                2500 non-null   float64\n",
      " 1   Annual Income                 2500 non-null   float64\n",
      " 2   Years in current job          2500 non-null   float64\n",
      " 3   Tax Liens                     2500 non-null   float64\n",
      " 4   Number of Open Accounts       2500 non-null   float64\n",
      " 5   Years of Credit History       2500 non-null   float64\n",
      " 6   Maximum Open Credit           2500 non-null   float64\n",
      " 7   Number of Credit Problems     2500 non-null   float64\n",
      " 8   Months since last delinquent  2500 non-null   float64\n",
      " 9   Bankruptcies                  2500 non-null   float64\n",
      " 10  Purpose                       2500 non-null   int64  \n",
      " 11  Term                          2500 non-null   int64  \n",
      " 12  Current Loan Amount           2500 non-null   float64\n",
      " 13  Current Credit Balance        2500 non-null   float64\n",
      " 14  Monthly Debt                  2500 non-null   float64\n",
      " 15  Credit Score                  2500 non-null   float64\n",
      "dtypes: float64(14), int64(2)\n",
      "memory usage: 312.6 KB\n"
     ]
    }
   ],
   "source": [
    "df_test.info()"
   ]
  },
  {
   "cell_type": "code",
   "execution_count": 74,
   "id": "263f049a",
   "metadata": {},
   "outputs": [],
   "source": [
    "samples = pd.read_csv('./credit-default/sample_submission.csv')\n",
    "predict = pd.DataFrame(index = samples['Id'])"
   ]
  },
  {
   "cell_type": "code",
   "execution_count": 75,
   "id": "131b05dd",
   "metadata": {},
   "outputs": [
    {
     "data": {
      "text/html": [
       "<div>\n",
       "<style scoped>\n",
       "    .dataframe tbody tr th:only-of-type {\n",
       "        vertical-align: middle;\n",
       "    }\n",
       "\n",
       "    .dataframe tbody tr th {\n",
       "        vertical-align: top;\n",
       "    }\n",
       "\n",
       "    .dataframe thead th {\n",
       "        text-align: right;\n",
       "    }\n",
       "</style>\n",
       "<table border=\"1\" class=\"dataframe\">\n",
       "  <thead>\n",
       "    <tr style=\"text-align: right;\">\n",
       "      <th></th>\n",
       "      <th>Credit Default</th>\n",
       "    </tr>\n",
       "    <tr>\n",
       "      <th>Id</th>\n",
       "      <th></th>\n",
       "    </tr>\n",
       "  </thead>\n",
       "  <tbody>\n",
       "    <tr>\n",
       "      <th>0</th>\n",
       "      <td>0</td>\n",
       "    </tr>\n",
       "    <tr>\n",
       "      <th>1</th>\n",
       "      <td>0</td>\n",
       "    </tr>\n",
       "    <tr>\n",
       "      <th>2</th>\n",
       "      <td>1</td>\n",
       "    </tr>\n",
       "    <tr>\n",
       "      <th>3</th>\n",
       "      <td>0</td>\n",
       "    </tr>\n",
       "    <tr>\n",
       "      <th>4</th>\n",
       "      <td>0</td>\n",
       "    </tr>\n",
       "    <tr>\n",
       "      <th>...</th>\n",
       "      <td>...</td>\n",
       "    </tr>\n",
       "    <tr>\n",
       "      <th>2495</th>\n",
       "      <td>0</td>\n",
       "    </tr>\n",
       "    <tr>\n",
       "      <th>2496</th>\n",
       "      <td>0</td>\n",
       "    </tr>\n",
       "    <tr>\n",
       "      <th>2497</th>\n",
       "      <td>0</td>\n",
       "    </tr>\n",
       "    <tr>\n",
       "      <th>2498</th>\n",
       "      <td>0</td>\n",
       "    </tr>\n",
       "    <tr>\n",
       "      <th>2499</th>\n",
       "      <td>1</td>\n",
       "    </tr>\n",
       "  </tbody>\n",
       "</table>\n",
       "<p>2500 rows × 1 columns</p>\n",
       "</div>"
      ],
      "text/plain": [
       "      Credit Default\n",
       "Id                  \n",
       "0                  0\n",
       "1                  0\n",
       "2                  1\n",
       "3                  0\n",
       "4                  0\n",
       "...              ...\n",
       "2495               0\n",
       "2496               0\n",
       "2497               0\n",
       "2498               0\n",
       "2499               1\n",
       "\n",
       "[2500 rows x 1 columns]"
      ]
     },
     "execution_count": 75,
     "metadata": {},
     "output_type": "execute_result"
    }
   ],
   "source": [
    "y_pred_final = catb_final.predict(df_test)\n",
    "predict['Credit Default'] = y_pred_final\n",
    "predict.to_csv(RESULT_PATH, sep=',')\n",
    "predict"
   ]
  }
 ],
 "metadata": {
  "kernelspec": {
   "display_name": "Python 3 (ipykernel)",
   "language": "python",
   "name": "python3"
  },
  "language_info": {
   "codemirror_mode": {
    "name": "ipython",
    "version": 3
   },
   "file_extension": ".py",
   "mimetype": "text/x-python",
   "name": "python",
   "nbconvert_exporter": "python",
   "pygments_lexer": "ipython3",
   "version": "3.9.12"
  }
 },
 "nbformat": 4,
 "nbformat_minor": 5
}
